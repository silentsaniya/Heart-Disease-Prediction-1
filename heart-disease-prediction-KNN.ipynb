{
 "cells": [
  {
   "attachments": {},
   "cell_type": "markdown",
   "id": "983c3a1a",
   "metadata": {},
   "source": [
    "\"\"\"\n",
    "@Author : Saniya Shaikh\n",
    "@Date   : 10th Mar 2023\n",
    "@Goal : Heart Disease Predicator Application Using K-Nearest Neighbors (KNN) Algorithm.\n",
    "\"\"\""
   ]
  },
  {
   "attachments": {},
   "cell_type": "markdown",
   "id": "e664f10c",
   "metadata": {
    "papermill": {
     "duration": 0.018149,
     "end_time": "2023-04-15T04:10:53.440764",
     "exception": false,
     "start_time": "2023-04-15T04:10:53.422615",
     "status": "completed"
    },
    "tags": []
   },
   "source": [
    "# Importing the libraries"
   ]
  },
  {
   "cell_type": "code",
   "execution_count": 1,
   "id": "afb5670a",
   "metadata": {
    "execution": {
     "iopub.execute_input": "2023-04-15T04:10:53.482475Z",
     "iopub.status.busy": "2023-04-15T04:10:53.481635Z",
     "iopub.status.idle": "2023-04-15T04:10:57.075954Z",
     "shell.execute_reply": "2023-04-15T04:10:57.074281Z"
    },
    "papermill": {
     "duration": 3.618413,
     "end_time": "2023-04-15T04:10:57.079344",
     "exception": false,
     "start_time": "2023-04-15T04:10:53.460931",
     "status": "completed"
    },
    "tags": []
   },
   "outputs": [],
   "source": [
    "import numpy as np\n",
    "import pandas as pd\n",
    "import warnings\n",
    "warnings.filterwarnings('ignore')\n",
    "%matplotlib inline"
   ]
  },
  {
   "attachments": {},
   "cell_type": "markdown",
   "id": "c3777094",
   "metadata": {
    "papermill": {
     "duration": 0.017731,
     "end_time": "2023-04-15T04:10:57.115574",
     "exception": false,
     "start_time": "2023-04-15T04:10:57.097843",
     "status": "completed"
    },
    "tags": []
   },
   "source": [
    "**Load the dataset**"
   ]
  },
  {
   "cell_type": "code",
   "execution_count": 2,
   "id": "ca106513",
   "metadata": {
    "execution": {
     "iopub.execute_input": "2023-04-15T04:10:57.154967Z",
     "iopub.status.busy": "2023-04-15T04:10:57.154495Z",
     "iopub.status.idle": "2023-04-15T04:10:57.186083Z",
     "shell.execute_reply": "2023-04-15T04:10:57.185121Z"
    },
    "papermill": {
     "duration": 0.054555,
     "end_time": "2023-04-15T04:10:57.188858",
     "exception": false,
     "start_time": "2023-04-15T04:10:57.134303",
     "status": "completed"
    },
    "tags": []
   },
   "outputs": [],
   "source": [
    "df = pd.read_csv('/kaggle/input/heart-prediction/heart.csv')"
   ]
  },
  {
   "cell_type": "code",
   "execution_count": 3,
   "id": "b53cc3b7",
   "metadata": {
    "execution": {
     "iopub.execute_input": "2023-04-15T04:10:57.227136Z",
     "iopub.status.busy": "2023-04-15T04:10:57.226695Z",
     "iopub.status.idle": "2023-04-15T04:10:57.261729Z",
     "shell.execute_reply": "2023-04-15T04:10:57.260656Z"
    },
    "papermill": {
     "duration": 0.057592,
     "end_time": "2023-04-15T04:10:57.264592",
     "exception": false,
     "start_time": "2023-04-15T04:10:57.207000",
     "status": "completed"
    },
    "tags": []
   },
   "outputs": [
    {
     "data": {
      "text/html": [
       "<div>\n",
       "<style scoped>\n",
       "    .dataframe tbody tr th:only-of-type {\n",
       "        vertical-align: middle;\n",
       "    }\n",
       "\n",
       "    .dataframe tbody tr th {\n",
       "        vertical-align: top;\n",
       "    }\n",
       "\n",
       "    .dataframe thead th {\n",
       "        text-align: right;\n",
       "    }\n",
       "</style>\n",
       "<table border=\"1\" class=\"dataframe\">\n",
       "  <thead>\n",
       "    <tr style=\"text-align: right;\">\n",
       "      <th></th>\n",
       "      <th>Age</th>\n",
       "      <th>Sex</th>\n",
       "      <th>ChestPainType</th>\n",
       "      <th>RestingBP</th>\n",
       "      <th>Cholesterol</th>\n",
       "      <th>FastingBS</th>\n",
       "      <th>RestingECG</th>\n",
       "      <th>MaxHR</th>\n",
       "      <th>ExerciseAngina</th>\n",
       "      <th>Oldpeak</th>\n",
       "      <th>ST_Slope</th>\n",
       "      <th>HeartDisease</th>\n",
       "    </tr>\n",
       "  </thead>\n",
       "  <tbody>\n",
       "    <tr>\n",
       "      <th>0</th>\n",
       "      <td>40</td>\n",
       "      <td>M</td>\n",
       "      <td>ATA</td>\n",
       "      <td>140</td>\n",
       "      <td>289</td>\n",
       "      <td>0</td>\n",
       "      <td>Normal</td>\n",
       "      <td>172</td>\n",
       "      <td>N</td>\n",
       "      <td>0.0</td>\n",
       "      <td>Up</td>\n",
       "      <td>0</td>\n",
       "    </tr>\n",
       "    <tr>\n",
       "      <th>1</th>\n",
       "      <td>49</td>\n",
       "      <td>F</td>\n",
       "      <td>NAP</td>\n",
       "      <td>160</td>\n",
       "      <td>180</td>\n",
       "      <td>0</td>\n",
       "      <td>Normal</td>\n",
       "      <td>156</td>\n",
       "      <td>N</td>\n",
       "      <td>1.0</td>\n",
       "      <td>Flat</td>\n",
       "      <td>1</td>\n",
       "    </tr>\n",
       "    <tr>\n",
       "      <th>2</th>\n",
       "      <td>37</td>\n",
       "      <td>M</td>\n",
       "      <td>ATA</td>\n",
       "      <td>130</td>\n",
       "      <td>283</td>\n",
       "      <td>0</td>\n",
       "      <td>ST</td>\n",
       "      <td>98</td>\n",
       "      <td>N</td>\n",
       "      <td>0.0</td>\n",
       "      <td>Up</td>\n",
       "      <td>0</td>\n",
       "    </tr>\n",
       "    <tr>\n",
       "      <th>3</th>\n",
       "      <td>48</td>\n",
       "      <td>F</td>\n",
       "      <td>ASY</td>\n",
       "      <td>138</td>\n",
       "      <td>214</td>\n",
       "      <td>0</td>\n",
       "      <td>Normal</td>\n",
       "      <td>108</td>\n",
       "      <td>Y</td>\n",
       "      <td>1.5</td>\n",
       "      <td>Flat</td>\n",
       "      <td>1</td>\n",
       "    </tr>\n",
       "    <tr>\n",
       "      <th>4</th>\n",
       "      <td>54</td>\n",
       "      <td>M</td>\n",
       "      <td>NAP</td>\n",
       "      <td>150</td>\n",
       "      <td>195</td>\n",
       "      <td>0</td>\n",
       "      <td>Normal</td>\n",
       "      <td>122</td>\n",
       "      <td>N</td>\n",
       "      <td>0.0</td>\n",
       "      <td>Up</td>\n",
       "      <td>0</td>\n",
       "    </tr>\n",
       "  </tbody>\n",
       "</table>\n",
       "</div>"
      ],
      "text/plain": [
       "   Age Sex ChestPainType  RestingBP  Cholesterol  FastingBS RestingECG  MaxHR  \\\n",
       "0   40   M           ATA        140          289          0     Normal    172   \n",
       "1   49   F           NAP        160          180          0     Normal    156   \n",
       "2   37   M           ATA        130          283          0         ST     98   \n",
       "3   48   F           ASY        138          214          0     Normal    108   \n",
       "4   54   M           NAP        150          195          0     Normal    122   \n",
       "\n",
       "  ExerciseAngina  Oldpeak ST_Slope  HeartDisease  \n",
       "0              N      0.0       Up             0  \n",
       "1              N      1.0     Flat             1  \n",
       "2              N      0.0       Up             0  \n",
       "3              Y      1.5     Flat             1  \n",
       "4              N      0.0       Up             0  "
      ]
     },
     "execution_count": 3,
     "metadata": {},
     "output_type": "execute_result"
    }
   ],
   "source": [
    "df.head()"
   ]
  },
  {
   "cell_type": "code",
   "execution_count": 5,
   "id": "b194b766",
   "metadata": {
    "execution": {
     "iopub.execute_input": "2023-04-15T04:10:57.544223Z",
     "iopub.status.busy": "2023-04-15T04:10:57.543381Z",
     "iopub.status.idle": "2023-04-15T04:10:57.558254Z",
     "shell.execute_reply": "2023-04-15T04:10:57.557243Z"
    },
    "papermill": {
     "duration": 0.037853,
     "end_time": "2023-04-15T04:10:57.560725",
     "exception": false,
     "start_time": "2023-04-15T04:10:57.522872",
     "status": "completed"
    },
    "tags": []
   },
   "outputs": [],
   "source": [
    "df['Sex'].replace(to_replace=['M','F'],value=[1,2],inplace=True)\n",
    "df['ChestPainType'].replace(to_replace=['ATA','NAP','ASY','TA'],value=[1,2,3,4],inplace=True)\n",
    "df['RestingECG'].replace(to_replace=['Normal','ST','LVH'],value=[1,2,3],inplace=True)\n",
    "df['ExerciseAngina'].replace(to_replace=['N','Y'],value=[1,2],inplace=True)\n",
    "df['ST_Slope'].replace(to_replace=['Up','Flat','Down'],value=[1,2,3],inplace=True)"
   ]
  },
  {
   "cell_type": "code",
   "execution_count": 7,
   "id": "cc876c44",
   "metadata": {
    "execution": {
     "iopub.execute_input": "2023-04-15T04:10:57.657830Z",
     "iopub.status.busy": "2023-04-15T04:10:57.657393Z",
     "iopub.status.idle": "2023-04-15T04:10:57.664288Z",
     "shell.execute_reply": "2023-04-15T04:10:57.663372Z"
    },
    "papermill": {
     "duration": 0.030552,
     "end_time": "2023-04-15T04:10:57.666885",
     "exception": false,
     "start_time": "2023-04-15T04:10:57.636333",
     "status": "completed"
    },
    "tags": []
   },
   "outputs": [
    {
     "data": {
      "text/plain": [
       "(918, 12)"
      ]
     },
     "execution_count": 7,
     "metadata": {},
     "output_type": "execute_result"
    }
   ],
   "source": [
    "df.shape"
   ]
  },
  {
   "cell_type": "code",
   "execution_count": 9,
   "id": "f87d4d16",
   "metadata": {
    "execution": {
     "iopub.execute_input": "2023-04-15T04:10:57.884049Z",
     "iopub.status.busy": "2023-04-15T04:10:57.883605Z",
     "iopub.status.idle": "2023-04-15T04:10:57.892789Z",
     "shell.execute_reply": "2023-04-15T04:10:57.891426Z"
    },
    "papermill": {
     "duration": 0.033352,
     "end_time": "2023-04-15T04:10:57.895436",
     "exception": false,
     "start_time": "2023-04-15T04:10:57.862084",
     "status": "completed"
    },
    "tags": []
   },
   "outputs": [
    {
     "data": {
      "text/plain": [
       "172"
      ]
     },
     "execution_count": 9,
     "metadata": {},
     "output_type": "execute_result"
    }
   ],
   "source": [
    "len(df[df['Cholesterol']==0])"
   ]
  },
  {
   "cell_type": "code",
   "execution_count": 10,
   "id": "9ee466de",
   "metadata": {
    "execution": {
     "iopub.execute_input": "2023-04-15T04:10:57.937534Z",
     "iopub.status.busy": "2023-04-15T04:10:57.936750Z",
     "iopub.status.idle": "2023-04-15T04:10:57.953820Z",
     "shell.execute_reply": "2023-04-15T04:10:57.952498Z"
    },
    "papermill": {
     "duration": 0.041084,
     "end_time": "2023-04-15T04:10:57.956340",
     "exception": false,
     "start_time": "2023-04-15T04:10:57.915256",
     "status": "completed"
    },
    "tags": []
   },
   "outputs": [
    {
     "name": "stdout",
     "output_type": "stream",
     "text": [
      "1\n"
     ]
    },
    {
     "data": {
      "text/html": [
       "<div>\n",
       "<style scoped>\n",
       "    .dataframe tbody tr th:only-of-type {\n",
       "        vertical-align: middle;\n",
       "    }\n",
       "\n",
       "    .dataframe tbody tr th {\n",
       "        vertical-align: top;\n",
       "    }\n",
       "\n",
       "    .dataframe thead th {\n",
       "        text-align: right;\n",
       "    }\n",
       "</style>\n",
       "<table border=\"1\" class=\"dataframe\">\n",
       "  <thead>\n",
       "    <tr style=\"text-align: right;\">\n",
       "      <th></th>\n",
       "      <th>Age</th>\n",
       "      <th>Sex</th>\n",
       "      <th>ChestPainType</th>\n",
       "      <th>RestingBP</th>\n",
       "      <th>Cholesterol</th>\n",
       "      <th>FastingBS</th>\n",
       "      <th>RestingECG</th>\n",
       "      <th>MaxHR</th>\n",
       "      <th>ExerciseAngina</th>\n",
       "      <th>Oldpeak</th>\n",
       "      <th>ST_Slope</th>\n",
       "      <th>HeartDisease</th>\n",
       "    </tr>\n",
       "  </thead>\n",
       "  <tbody>\n",
       "    <tr>\n",
       "      <th>449</th>\n",
       "      <td>55</td>\n",
       "      <td>1</td>\n",
       "      <td>2</td>\n",
       "      <td>0</td>\n",
       "      <td>0</td>\n",
       "      <td>0</td>\n",
       "      <td>1</td>\n",
       "      <td>155</td>\n",
       "      <td>1</td>\n",
       "      <td>1.5</td>\n",
       "      <td>2</td>\n",
       "      <td>1</td>\n",
       "    </tr>\n",
       "  </tbody>\n",
       "</table>\n",
       "</div>"
      ],
      "text/plain": [
       "     Age  Sex  ChestPainType  RestingBP  Cholesterol  FastingBS  RestingECG  \\\n",
       "449   55    1              2          0            0          0           1   \n",
       "\n",
       "     MaxHR  ExerciseAngina  Oldpeak  ST_Slope  HeartDisease  \n",
       "449    155               1      1.5         2             1  "
      ]
     },
     "execution_count": 10,
     "metadata": {},
     "output_type": "execute_result"
    }
   ],
   "source": [
    "print(len(df[df['RestingBP']==0]))\n",
    "df[df['RestingBP']==0]"
   ]
  },
  {
   "cell_type": "code",
   "execution_count": 17,
   "id": "d6072f95",
   "metadata": {
    "execution": {
     "iopub.execute_input": "2023-04-15T04:11:01.586062Z",
     "iopub.status.busy": "2023-04-15T04:11:01.585567Z",
     "iopub.status.idle": "2023-04-15T04:11:01.596416Z",
     "shell.execute_reply": "2023-04-15T04:11:01.594975Z"
    },
    "papermill": {
     "duration": 0.038836,
     "end_time": "2023-04-15T04:11:01.599097",
     "exception": false,
     "start_time": "2023-04-15T04:11:01.560261",
     "status": "completed"
    },
    "tags": []
   },
   "outputs": [
    {
     "data": {
      "text/plain": [
       "Age               0\n",
       "Sex               0\n",
       "ChestPainType     0\n",
       "RestingBP         0\n",
       "FastingBS         0\n",
       "RestingECG        0\n",
       "MaxHR             0\n",
       "ExerciseAngina    0\n",
       "Oldpeak           0\n",
       "ST_Slope          0\n",
       "HeartDisease      0\n",
       "dtype: int64"
      ]
     },
     "execution_count": 17,
     "metadata": {},
     "output_type": "execute_result"
    }
   ],
   "source": [
    "# After filling null values with mean\n",
    "\n",
    "df.isnull().sum()"
   ]
  },
  {
   "cell_type": "code",
   "execution_count": 18,
   "id": "afc883ec",
   "metadata": {
    "execution": {
     "iopub.execute_input": "2023-04-15T04:11:01.649312Z",
     "iopub.status.busy": "2023-04-15T04:11:01.648751Z",
     "iopub.status.idle": "2023-04-15T04:11:01.659295Z",
     "shell.execute_reply": "2023-04-15T04:11:01.657786Z"
    },
    "papermill": {
     "duration": 0.038535,
     "end_time": "2023-04-15T04:11:01.662207",
     "exception": false,
     "start_time": "2023-04-15T04:11:01.623672",
     "status": "completed"
    },
    "tags": []
   },
   "outputs": [
    {
     "data": {
      "text/plain": [
       "1    508\n",
       "0    409\n",
       "Name: HeartDisease, dtype: int64"
      ]
     },
     "execution_count": 18,
     "metadata": {},
     "output_type": "execute_result"
    }
   ],
   "source": [
    "df['HeartDisease'].value_counts()\n",
    "\n",
    "#  [1: heart disease, 0: Normal]"
   ]
  },
  {
   "cell_type": "code",
   "execution_count": 27,
   "id": "38373abd",
   "metadata": {
    "execution": {
     "iopub.execute_input": "2023-04-15T04:11:49.311007Z",
     "iopub.status.busy": "2023-04-15T04:11:49.310567Z",
     "iopub.status.idle": "2023-04-15T04:11:49.317721Z",
     "shell.execute_reply": "2023-04-15T04:11:49.316244Z"
    },
    "papermill": {
     "duration": 0.070985,
     "end_time": "2023-04-15T04:11:49.320363",
     "exception": false,
     "start_time": "2023-04-15T04:11:49.249378",
     "status": "completed"
    },
    "tags": []
   },
   "outputs": [],
   "source": [
    "X = df.drop('HeartDisease',axis=1)\n",
    "Y = df['HeartDisease']"
   ]
  },
  {
   "cell_type": "code",
   "execution_count": 28,
   "id": "1a60d846",
   "metadata": {
    "execution": {
     "iopub.execute_input": "2023-04-15T04:11:49.440838Z",
     "iopub.status.busy": "2023-04-15T04:11:49.439997Z",
     "iopub.status.idle": "2023-04-15T04:11:49.449666Z",
     "shell.execute_reply": "2023-04-15T04:11:49.448437Z"
    },
    "papermill": {
     "duration": 0.07321,
     "end_time": "2023-04-15T04:11:49.452534",
     "exception": false,
     "start_time": "2023-04-15T04:11:49.379324",
     "status": "completed"
    },
    "tags": []
   },
   "outputs": [],
   "source": [
    "from sklearn.model_selection import train_test_split\n",
    "X_train,X_test,Y_train,Y_test = train_test_split(X,Y,test_size=0.2,stratify=Y,random_state=5)"
   ]
  },
  {
   "attachments": {},
   "cell_type": "markdown",
   "id": "a242697d",
   "metadata": {
    "papermill": {
     "duration": 0.058658,
     "end_time": "2023-04-15T04:11:49.569070",
     "exception": false,
     "start_time": "2023-04-15T04:11:49.510412",
     "status": "completed"
    },
    "tags": []
   },
   "source": [
    "# # K-Nearest Neighbors (KNN)"
   ]
  },
  {
   "cell_type": "code",
   "execution_count": 29,
   "id": "ce529d5c",
   "metadata": {
    "execution": {
     "iopub.execute_input": "2023-04-15T04:11:49.691305Z",
     "iopub.status.busy": "2023-04-15T04:11:49.690868Z",
     "iopub.status.idle": "2023-04-15T04:11:49.703071Z",
     "shell.execute_reply": "2023-04-15T04:11:49.701679Z"
    },
    "papermill": {
     "duration": 0.078298,
     "end_time": "2023-04-15T04:11:49.706429",
     "exception": false,
     "start_time": "2023-04-15T04:11:49.628131",
     "status": "completed"
    },
    "tags": []
   },
   "outputs": [],
   "source": [
    "# At first we have to do standard scaling\n",
    "\n",
    "from sklearn.preprocessing import StandardScaler\n",
    "scaler = StandardScaler()\n",
    "X_train_knn = scaler.fit_transform(X_train)\n",
    "X_test_knn = scaler.transform(X_test)"
   ]
  },
  {
   "attachments": {},
   "cell_type": "markdown",
   "id": "b28024a2",
   "metadata": {
    "papermill": {
     "duration": 0.057172,
     "end_time": "2023-04-15T04:11:49.942579",
     "exception": false,
     "start_time": "2023-04-15T04:11:49.885407",
     "status": "completed"
    },
    "tags": []
   },
   "source": [
    "**Method -1 : Rule of thumb** \n",
    "\n",
    "**In this method we will find k by k=sqrt(n) ; where n is number of rows in training set\n",
    "One thing to remember that it is recommended the use the odd value because it helps in avoiding ties when the algorithm tries to assign a class label to the test instance.** "
   ]
  },
  {
   "cell_type": "code",
   "execution_count": 31,
   "id": "fde1816f",
   "metadata": {
    "execution": {
     "iopub.execute_input": "2023-04-15T04:11:50.193927Z",
     "iopub.status.busy": "2023-04-15T04:11:50.193485Z",
     "iopub.status.idle": "2023-04-15T04:11:50.200243Z",
     "shell.execute_reply": "2023-04-15T04:11:50.198992Z"
    },
    "papermill": {
     "duration": 0.070568,
     "end_time": "2023-04-15T04:11:50.202817",
     "exception": false,
     "start_time": "2023-04-15T04:11:50.132249",
     "status": "completed"
    },
    "tags": []
   },
   "outputs": [
    {
     "name": "stdout",
     "output_type": "stream",
     "text": [
      "The value of k is  27.073972741361768\n"
     ]
    }
   ],
   "source": [
    "k = np.sqrt(X_train_knn.shape[0])\n",
    "print('The value of k is ',k)"
   ]
  },
  {
   "cell_type": "code",
   "execution_count": 32,
   "id": "bf4166aa",
   "metadata": {
    "execution": {
     "iopub.execute_input": "2023-04-15T04:11:50.322157Z",
     "iopub.status.busy": "2023-04-15T04:11:50.321689Z",
     "iopub.status.idle": "2023-04-15T04:11:50.328132Z",
     "shell.execute_reply": "2023-04-15T04:11:50.326337Z"
    },
    "papermill": {
     "duration": 0.070238,
     "end_time": "2023-04-15T04:11:50.330683",
     "exception": false,
     "start_time": "2023-04-15T04:11:50.260445",
     "status": "completed"
    },
    "tags": []
   },
   "outputs": [],
   "source": [
    "# Setting the value of k as 27\n",
    "\n",
    "k = 27"
   ]
  },
  {
   "attachments": {},
   "cell_type": "markdown",
   "id": "0fec8a07",
   "metadata": {
    "papermill": {
     "duration": 0.060384,
     "end_time": "2023-04-15T04:11:50.451193",
     "exception": false,
     "start_time": "2023-04-15T04:11:50.390809",
     "status": "completed"
    },
    "tags": []
   },
   "source": [
    "**So after applying the first method we are getting the value of k is 27**"
   ]
  },
  {
   "cell_type": "code",
   "execution_count": 33,
   "id": "9cc2b052",
   "metadata": {
    "execution": {
     "iopub.execute_input": "2023-04-15T04:11:50.573742Z",
     "iopub.status.busy": "2023-04-15T04:11:50.573317Z",
     "iopub.status.idle": "2023-04-15T04:11:50.692990Z",
     "shell.execute_reply": "2023-04-15T04:11:50.691714Z"
    },
    "papermill": {
     "duration": 0.185239,
     "end_time": "2023-04-15T04:11:50.696385",
     "exception": false,
     "start_time": "2023-04-15T04:11:50.511146",
     "status": "completed"
    },
    "tags": []
   },
   "outputs": [],
   "source": [
    "from sklearn.neighbors import KNeighborsClassifier\n",
    "knn = KNeighborsClassifier(n_neighbors=k)"
   ]
  },
  {
   "cell_type": "code",
   "execution_count": 34,
   "id": "585a16a2",
   "metadata": {
    "execution": {
     "iopub.execute_input": "2023-04-15T04:11:50.817321Z",
     "iopub.status.busy": "2023-04-15T04:11:50.816904Z",
     "iopub.status.idle": "2023-04-15T04:11:50.831559Z",
     "shell.execute_reply": "2023-04-15T04:11:50.830126Z"
    },
    "papermill": {
     "duration": 0.079894,
     "end_time": "2023-04-15T04:11:50.834415",
     "exception": false,
     "start_time": "2023-04-15T04:11:50.754521",
     "status": "completed"
    },
    "tags": []
   },
   "outputs": [
    {
     "data": {
      "text/plain": [
       "KNeighborsClassifier(n_neighbors=27)"
      ]
     },
     "execution_count": 34,
     "metadata": {},
     "output_type": "execute_result"
    }
   ],
   "source": [
    "# Train our model\n",
    "\n",
    "knn.fit(X_train_knn,Y_train)"
   ]
  },
  {
   "cell_type": "code",
   "execution_count": 35,
   "id": "9ae2b267",
   "metadata": {
    "execution": {
     "iopub.execute_input": "2023-04-15T04:11:50.954138Z",
     "iopub.status.busy": "2023-04-15T04:11:50.953698Z",
     "iopub.status.idle": "2023-04-15T04:11:50.969491Z",
     "shell.execute_reply": "2023-04-15T04:11:50.968152Z"
    },
    "papermill": {
     "duration": 0.079726,
     "end_time": "2023-04-15T04:11:50.972685",
     "exception": false,
     "start_time": "2023-04-15T04:11:50.892959",
     "status": "completed"
    },
    "tags": []
   },
   "outputs": [],
   "source": [
    "Y_pred_knn = knn.predict(X_test_knn)"
   ]
  },
  {
   "attachments": {},
   "cell_type": "markdown",
   "id": "42f6f2b2",
   "metadata": {
    "papermill": {
     "duration": 0.058947,
     "end_time": "2023-04-15T04:11:51.090354",
     "exception": false,
     "start_time": "2023-04-15T04:11:51.031407",
     "status": "completed"
    },
    "tags": []
   },
   "source": [
    "**Model evaluation**"
   ]
  },
  {
   "cell_type": "code",
   "execution_count": 36,
   "id": "11470354",
   "metadata": {
    "execution": {
     "iopub.execute_input": "2023-04-15T04:11:51.211925Z",
     "iopub.status.busy": "2023-04-15T04:11:51.211529Z",
     "iopub.status.idle": "2023-04-15T04:11:51.219718Z",
     "shell.execute_reply": "2023-04-15T04:11:51.218243Z"
    },
    "papermill": {
     "duration": 0.072135,
     "end_time": "2023-04-15T04:11:51.222565",
     "exception": false,
     "start_time": "2023-04-15T04:11:51.150430",
     "status": "completed"
    },
    "tags": []
   },
   "outputs": [
    {
     "data": {
      "text/plain": [
       "0.8695652173913043"
      ]
     },
     "execution_count": 36,
     "metadata": {},
     "output_type": "execute_result"
    }
   ],
   "source": [
    "from sklearn.metrics import accuracy_score\n",
    "accuracy_score(Y_test,Y_pred_knn)"
   ]
  },
  {
   "attachments": {},
   "cell_type": "markdown",
   "id": "590d10dc",
   "metadata": {
    "papermill": {
     "duration": 0.059443,
     "end_time": "2023-04-15T04:11:51.471404",
     "exception": false,
     "start_time": "2023-04-15T04:11:51.411961",
     "status": "completed"
    },
    "tags": []
   },
   "source": [
    "**In our case, an accuracy score of 0.86 means that our KNN model correctly classified 86% of the instances in this dataset. This is a fairly good accuracy score and suggests that our model is performing reasonably well.**"
   ]
  },
  {
   "attachments": {},
   "cell_type": "markdown",
   "id": "c11025b0",
   "metadata": {
    "papermill": {
     "duration": 0.059842,
     "end_time": "2023-04-15T04:11:51.591067",
     "exception": false,
     "start_time": "2023-04-15T04:11:51.531225",
     "status": "completed"
    },
    "tags": []
   },
   "source": [
    "**Method 2 - Trial and error**\n",
    "\n",
    "**This method is preety straightforward, we just have to run a for loop to check the value of k from 1 to 30 and then decide which one is more appropriate.**"
   ]
  },
  {
   "cell_type": "code",
   "execution_count": 38,
   "id": "84ac6aaa",
   "metadata": {
    "execution": {
     "iopub.execute_input": "2023-04-15T04:11:51.713698Z",
     "iopub.status.busy": "2023-04-15T04:11:51.713259Z",
     "iopub.status.idle": "2023-04-15T04:11:52.266776Z",
     "shell.execute_reply": "2023-04-15T04:11:52.265341Z"
    },
    "papermill": {
     "duration": 0.618607,
     "end_time": "2023-04-15T04:11:52.269821",
     "exception": false,
     "start_time": "2023-04-15T04:11:51.651214",
     "status": "completed"
    },
    "tags": []
   },
   "outputs": [
    {
     "name": "stdout",
     "output_type": "stream",
     "text": [
      "[0.8586956521739131, 0.8315217391304348, 0.8695652173913043, 0.875, 0.875, 0.8804347826086957, 0.8858695652173914, 0.8695652173913043, 0.875, 0.8586956521739131, 0.875, 0.875, 0.8858695652173914, 0.875, 0.8858695652173914, 0.875, 0.8804347826086957, 0.875, 0.875, 0.8641304347826086, 0.875, 0.8695652173913043, 0.8858695652173914, 0.8804347826086957, 0.8858695652173914, 0.8695652173913043, 0.8695652173913043, 0.8532608695652174, 0.8641304347826086, 0.8641304347826086]\n"
     ]
    },
    {
     "data": {
      "image/png": "[encoded data removed]",
      "text/plain": [
       "<Figure size 640x480 with 1 Axes>"
      ]
     },
     "metadata": {},
     "output_type": "display_data"
    }
   ],
   "source": [
    "accuracy = []\n",
    "for i in range(1,31):\n",
    "    knn = KNeighborsClassifier(n_neighbors=i)\n",
    "    knn.fit(X_train_knn,Y_train)\n",
    "    accuracy.append(accuracy_score(Y_test,knn.predict(X_test_knn)))\n",
    "    \n",
    "plt.plot(range(1,31),accuracy)\n",
    "print(accuracy)\n"
   ]
  },
  {
   "attachments": {},
   "cell_type": "markdown",
   "id": "23adcd80",
   "metadata": {
    "papermill": {
     "duration": 0.057359,
     "end_time": "2023-04-15T04:11:52.387373",
     "exception": false,
     "start_time": "2023-04-15T04:11:52.330014",
     "status": "completed"
    },
    "tags": []
   },
   "source": [
    "**We can see that if we take the value of k=7,then the accuracy will be about 88% \n",
    "which is better compared to when we took the value of k=27**"
   ]
  }
 ],
 "metadata": {
  "kernelspec": {
   "display_name": "Python 3",
   "language": "python",
   "name": "python3"
  },
  "language_info": {
   "codemirror_mode": {
    "name": "ipython",
    "version": 3
   },
   "file_extension": ".py",
   "mimetype": "text/x-python",
   "name": "python",
   "nbconvert_exporter": "python",
   "pygments_lexer": "ipython3",
   "version": "3.7.12"
  },
  "papermill": {
   "default_parameters": {},
   "duration": 76.235453,
   "end_time": "2023-04-15T04:11:57.736961",
   "environment_variables": {},
   "exception": null,
   "input_path": "__notebook__.ipynb",
   "output_path": "__notebook__.ipynb",
   "parameters": {},
   "start_time": "2023-04-15T04:10:41.501508",
   "version": "2.4.0"
  }
 },
 "nbformat": 4,
 "nbformat_minor": 5
}
