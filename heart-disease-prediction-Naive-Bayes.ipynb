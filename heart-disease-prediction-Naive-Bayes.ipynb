{
 "cells": [
  {
   "attachments": {},
   "cell_type": "markdown",
   "id": "7a9b8e1f",
   "metadata": {},
   "source": [
    "\"\"\"\n",
    "@Author : Saniya Shaikh\n",
    "@Date   : 10th Mar 2023\n",
    "@Goal : Heart Disease Predicator Application Using Naive Bayes Algorithm.\n",
    "\"\"\""
   ]
  },
  {
   "attachments": {},
   "cell_type": "markdown",
   "id": "e664f10c",
   "metadata": {
    "papermill": {
     "duration": 0.018149,
     "end_time": "2023-04-15T04:10:53.440764",
     "exception": false,
     "start_time": "2023-04-15T04:10:53.422615",
     "status": "completed"
    },
    "tags": []
   },
   "source": [
    "# Importing the libraries"
   ]
  },
  {
   "cell_type": "code",
   "execution_count": 1,
   "id": "afb5670a",
   "metadata": {
    "execution": {
     "iopub.execute_input": "2023-04-15T04:10:53.482475Z",
     "iopub.status.busy": "2023-04-15T04:10:53.481635Z",
     "iopub.status.idle": "2023-04-15T04:10:57.075954Z",
     "shell.execute_reply": "2023-04-15T04:10:57.074281Z"
    },
    "papermill": {
     "duration": 3.618413,
     "end_time": "2023-04-15T04:10:57.079344",
     "exception": false,
     "start_time": "2023-04-15T04:10:53.460931",
     "status": "completed"
    },
    "tags": []
   },
   "outputs": [],
   "source": [
    "import numpy as np\n",
    "import pandas as pd\n",
    "import warnings\n",
    "warnings.filterwarnings('ignore')\n",
    "%matplotlib inline"
   ]
  },
  {
   "attachments": {},
   "cell_type": "markdown",
   "id": "c3777094",
   "metadata": {
    "papermill": {
     "duration": 0.017731,
     "end_time": "2023-04-15T04:10:57.115574",
     "exception": false,
     "start_time": "2023-04-15T04:10:57.097843",
     "status": "completed"
    },
    "tags": []
   },
   "source": [
    "**Load the dataset**"
   ]
  },
  {
   "cell_type": "code",
   "execution_count": 2,
   "id": "ca106513",
   "metadata": {
    "execution": {
     "iopub.execute_input": "2023-04-15T04:10:57.154967Z",
     "iopub.status.busy": "2023-04-15T04:10:57.154495Z",
     "iopub.status.idle": "2023-04-15T04:10:57.186083Z",
     "shell.execute_reply": "2023-04-15T04:10:57.185121Z"
    },
    "papermill": {
     "duration": 0.054555,
     "end_time": "2023-04-15T04:10:57.188858",
     "exception": false,
     "start_time": "2023-04-15T04:10:57.134303",
     "status": "completed"
    },
    "tags": []
   },
   "outputs": [],
   "source": [
    "df = pd.read_csv('/kaggle/input/heart-prediction/heart.csv')"
   ]
  },
  {
   "cell_type": "code",
   "execution_count": 3,
   "id": "b53cc3b7",
   "metadata": {
    "execution": {
     "iopub.execute_input": "2023-04-15T04:10:57.227136Z",
     "iopub.status.busy": "2023-04-15T04:10:57.226695Z",
     "iopub.status.idle": "2023-04-15T04:10:57.261729Z",
     "shell.execute_reply": "2023-04-15T04:10:57.260656Z"
    },
    "papermill": {
     "duration": 0.057592,
     "end_time": "2023-04-15T04:10:57.264592",
     "exception": false,
     "start_time": "2023-04-15T04:10:57.207000",
     "status": "completed"
    },
    "tags": []
   },
   "outputs": [
    {
     "data": {
      "text/html": [
       "<div>\n",
       "<style scoped>\n",
       "    .dataframe tbody tr th:only-of-type {\n",
       "        vertical-align: middle;\n",
       "    }\n",
       "\n",
       "    .dataframe tbody tr th {\n",
       "        vertical-align: top;\n",
       "    }\n",
       "\n",
       "    .dataframe thead th {\n",
       "        text-align: right;\n",
       "    }\n",
       "</style>\n",
       "<table border=\"1\" class=\"dataframe\">\n",
       "  <thead>\n",
       "    <tr style=\"text-align: right;\">\n",
       "      <th></th>\n",
       "      <th>Age</th>\n",
       "      <th>Sex</th>\n",
       "      <th>ChestPainType</th>\n",
       "      <th>RestingBP</th>\n",
       "      <th>Cholesterol</th>\n",
       "      <th>FastingBS</th>\n",
       "      <th>RestingECG</th>\n",
       "      <th>MaxHR</th>\n",
       "      <th>ExerciseAngina</th>\n",
       "      <th>Oldpeak</th>\n",
       "      <th>ST_Slope</th>\n",
       "      <th>HeartDisease</th>\n",
       "    </tr>\n",
       "  </thead>\n",
       "  <tbody>\n",
       "    <tr>\n",
       "      <th>0</th>\n",
       "      <td>40</td>\n",
       "      <td>M</td>\n",
       "      <td>ATA</td>\n",
       "      <td>140</td>\n",
       "      <td>289</td>\n",
       "      <td>0</td>\n",
       "      <td>Normal</td>\n",
       "      <td>172</td>\n",
       "      <td>N</td>\n",
       "      <td>0.0</td>\n",
       "      <td>Up</td>\n",
       "      <td>0</td>\n",
       "    </tr>\n",
       "    <tr>\n",
       "      <th>1</th>\n",
       "      <td>49</td>\n",
       "      <td>F</td>\n",
       "      <td>NAP</td>\n",
       "      <td>160</td>\n",
       "      <td>180</td>\n",
       "      <td>0</td>\n",
       "      <td>Normal</td>\n",
       "      <td>156</td>\n",
       "      <td>N</td>\n",
       "      <td>1.0</td>\n",
       "      <td>Flat</td>\n",
       "      <td>1</td>\n",
       "    </tr>\n",
       "    <tr>\n",
       "      <th>2</th>\n",
       "      <td>37</td>\n",
       "      <td>M</td>\n",
       "      <td>ATA</td>\n",
       "      <td>130</td>\n",
       "      <td>283</td>\n",
       "      <td>0</td>\n",
       "      <td>ST</td>\n",
       "      <td>98</td>\n",
       "      <td>N</td>\n",
       "      <td>0.0</td>\n",
       "      <td>Up</td>\n",
       "      <td>0</td>\n",
       "    </tr>\n",
       "    <tr>\n",
       "      <th>3</th>\n",
       "      <td>48</td>\n",
       "      <td>F</td>\n",
       "      <td>ASY</td>\n",
       "      <td>138</td>\n",
       "      <td>214</td>\n",
       "      <td>0</td>\n",
       "      <td>Normal</td>\n",
       "      <td>108</td>\n",
       "      <td>Y</td>\n",
       "      <td>1.5</td>\n",
       "      <td>Flat</td>\n",
       "      <td>1</td>\n",
       "    </tr>\n",
       "    <tr>\n",
       "      <th>4</th>\n",
       "      <td>54</td>\n",
       "      <td>M</td>\n",
       "      <td>NAP</td>\n",
       "      <td>150</td>\n",
       "      <td>195</td>\n",
       "      <td>0</td>\n",
       "      <td>Normal</td>\n",
       "      <td>122</td>\n",
       "      <td>N</td>\n",
       "      <td>0.0</td>\n",
       "      <td>Up</td>\n",
       "      <td>0</td>\n",
       "    </tr>\n",
       "  </tbody>\n",
       "</table>\n",
       "</div>"
      ],
      "text/plain": [
       "   Age Sex ChestPainType  RestingBP  Cholesterol  FastingBS RestingECG  MaxHR  \\\n",
       "0   40   M           ATA        140          289          0     Normal    172   \n",
       "1   49   F           NAP        160          180          0     Normal    156   \n",
       "2   37   M           ATA        130          283          0         ST     98   \n",
       "3   48   F           ASY        138          214          0     Normal    108   \n",
       "4   54   M           NAP        150          195          0     Normal    122   \n",
       "\n",
       "  ExerciseAngina  Oldpeak ST_Slope  HeartDisease  \n",
       "0              N      0.0       Up             0  \n",
       "1              N      1.0     Flat             1  \n",
       "2              N      0.0       Up             0  \n",
       "3              Y      1.5     Flat             1  \n",
       "4              N      0.0       Up             0  "
      ]
     },
     "execution_count": 3,
     "metadata": {},
     "output_type": "execute_result"
    }
   ],
   "source": [
    "df.head()"
   ]
  },
  {
   "cell_type": "code",
   "execution_count": 5,
   "id": "b194b766",
   "metadata": {
    "execution": {
     "iopub.execute_input": "2023-04-15T04:10:57.544223Z",
     "iopub.status.busy": "2023-04-15T04:10:57.543381Z",
     "iopub.status.idle": "2023-04-15T04:10:57.558254Z",
     "shell.execute_reply": "2023-04-15T04:10:57.557243Z"
    },
    "papermill": {
     "duration": 0.037853,
     "end_time": "2023-04-15T04:10:57.560725",
     "exception": false,
     "start_time": "2023-04-15T04:10:57.522872",
     "status": "completed"
    },
    "tags": []
   },
   "outputs": [],
   "source": [
    "df['Sex'].replace(to_replace=['M','F'],value=[1,2],inplace=True)\n",
    "df['ChestPainType'].replace(to_replace=['ATA','NAP','ASY','TA'],value=[1,2,3,4],inplace=True)\n",
    "df['RestingECG'].replace(to_replace=['Normal','ST','LVH'],value=[1,2,3],inplace=True)\n",
    "df['ExerciseAngina'].replace(to_replace=['N','Y'],value=[1,2],inplace=True)\n",
    "df['ST_Slope'].replace(to_replace=['Up','Flat','Down'],value=[1,2,3],inplace=True)"
   ]
  },
  {
   "cell_type": "code",
   "execution_count": 7,
   "id": "cc876c44",
   "metadata": {
    "execution": {
     "iopub.execute_input": "2023-04-15T04:10:57.657830Z",
     "iopub.status.busy": "2023-04-15T04:10:57.657393Z",
     "iopub.status.idle": "2023-04-15T04:10:57.664288Z",
     "shell.execute_reply": "2023-04-15T04:10:57.663372Z"
    },
    "papermill": {
     "duration": 0.030552,
     "end_time": "2023-04-15T04:10:57.666885",
     "exception": false,
     "start_time": "2023-04-15T04:10:57.636333",
     "status": "completed"
    },
    "tags": []
   },
   "outputs": [
    {
     "data": {
      "text/plain": [
       "(918, 12)"
      ]
     },
     "execution_count": 7,
     "metadata": {},
     "output_type": "execute_result"
    }
   ],
   "source": [
    "df.shape"
   ]
  },
  {
   "cell_type": "code",
   "execution_count": 9,
   "id": "f87d4d16",
   "metadata": {
    "execution": {
     "iopub.execute_input": "2023-04-15T04:10:57.884049Z",
     "iopub.status.busy": "2023-04-15T04:10:57.883605Z",
     "iopub.status.idle": "2023-04-15T04:10:57.892789Z",
     "shell.execute_reply": "2023-04-15T04:10:57.891426Z"
    },
    "papermill": {
     "duration": 0.033352,
     "end_time": "2023-04-15T04:10:57.895436",
     "exception": false,
     "start_time": "2023-04-15T04:10:57.862084",
     "status": "completed"
    },
    "tags": []
   },
   "outputs": [
    {
     "data": {
      "text/plain": [
       "172"
      ]
     },
     "execution_count": 9,
     "metadata": {},
     "output_type": "execute_result"
    }
   ],
   "source": [
    "len(df[df['Cholesterol']==0])"
   ]
  },
  {
   "cell_type": "code",
   "execution_count": 10,
   "id": "9ee466de",
   "metadata": {
    "execution": {
     "iopub.execute_input": "2023-04-15T04:10:57.937534Z",
     "iopub.status.busy": "2023-04-15T04:10:57.936750Z",
     "iopub.status.idle": "2023-04-15T04:10:57.953820Z",
     "shell.execute_reply": "2023-04-15T04:10:57.952498Z"
    },
    "papermill": {
     "duration": 0.041084,
     "end_time": "2023-04-15T04:10:57.956340",
     "exception": false,
     "start_time": "2023-04-15T04:10:57.915256",
     "status": "completed"
    },
    "tags": []
   },
   "outputs": [
    {
     "name": "stdout",
     "output_type": "stream",
     "text": [
      "1\n"
     ]
    },
    {
     "data": {
      "text/html": [
       "<div>\n",
       "<style scoped>\n",
       "    .dataframe tbody tr th:only-of-type {\n",
       "        vertical-align: middle;\n",
       "    }\n",
       "\n",
       "    .dataframe tbody tr th {\n",
       "        vertical-align: top;\n",
       "    }\n",
       "\n",
       "    .dataframe thead th {\n",
       "        text-align: right;\n",
       "    }\n",
       "</style>\n",
       "<table border=\"1\" class=\"dataframe\">\n",
       "  <thead>\n",
       "    <tr style=\"text-align: right;\">\n",
       "      <th></th>\n",
       "      <th>Age</th>\n",
       "      <th>Sex</th>\n",
       "      <th>ChestPainType</th>\n",
       "      <th>RestingBP</th>\n",
       "      <th>Cholesterol</th>\n",
       "      <th>FastingBS</th>\n",
       "      <th>RestingECG</th>\n",
       "      <th>MaxHR</th>\n",
       "      <th>ExerciseAngina</th>\n",
       "      <th>Oldpeak</th>\n",
       "      <th>ST_Slope</th>\n",
       "      <th>HeartDisease</th>\n",
       "    </tr>\n",
       "  </thead>\n",
       "  <tbody>\n",
       "    <tr>\n",
       "      <th>449</th>\n",
       "      <td>55</td>\n",
       "      <td>1</td>\n",
       "      <td>2</td>\n",
       "      <td>0</td>\n",
       "      <td>0</td>\n",
       "      <td>0</td>\n",
       "      <td>1</td>\n",
       "      <td>155</td>\n",
       "      <td>1</td>\n",
       "      <td>1.5</td>\n",
       "      <td>2</td>\n",
       "      <td>1</td>\n",
       "    </tr>\n",
       "  </tbody>\n",
       "</table>\n",
       "</div>"
      ],
      "text/plain": [
       "     Age  Sex  ChestPainType  RestingBP  Cholesterol  FastingBS  RestingECG  \\\n",
       "449   55    1              2          0            0          0           1   \n",
       "\n",
       "     MaxHR  ExerciseAngina  Oldpeak  ST_Slope  HeartDisease  \n",
       "449    155               1      1.5         2             1  "
      ]
     },
     "execution_count": 10,
     "metadata": {},
     "output_type": "execute_result"
    }
   ],
   "source": [
    "print(len(df[df['RestingBP']==0]))\n",
    "df[df['RestingBP']==0]"
   ]
  },
  {
   "cell_type": "code",
   "execution_count": 11,
   "id": "ac6d2071",
   "metadata": {
    "execution": {
     "iopub.execute_input": "2023-04-15T04:10:58.038973Z",
     "iopub.status.busy": "2023-04-15T04:10:58.038205Z",
     "iopub.status.idle": "2023-04-15T04:10:58.045142Z",
     "shell.execute_reply": "2023-04-15T04:10:58.044150Z"
    },
    "papermill": {
     "duration": 0.031551,
     "end_time": "2023-04-15T04:10:58.047703",
     "exception": false,
     "start_time": "2023-04-15T04:10:58.016152",
     "status": "completed"
    },
    "tags": []
   },
   "outputs": [],
   "source": [
    "# Dropping the Cholesterol column\n",
    "\n",
    "df = df.drop('Cholesterol',axis=1)"
   ]
  },
  {
   "cell_type": "code",
   "execution_count": 12,
   "id": "91d325c0",
   "metadata": {
    "execution": {
     "iopub.execute_input": "2023-04-15T04:10:58.090431Z",
     "iopub.status.busy": "2023-04-15T04:10:58.089595Z",
     "iopub.status.idle": "2023-04-15T04:10:58.095564Z",
     "shell.execute_reply": "2023-04-15T04:10:58.094319Z"
    },
    "papermill": {
     "duration": 0.030825,
     "end_time": "2023-04-15T04:10:58.098561",
     "exception": false,
     "start_time": "2023-04-15T04:10:58.067736",
     "status": "completed"
    },
    "tags": []
   },
   "outputs": [],
   "source": [
    "# Dropping 4th row\n",
    "\n",
    "\n",
    "df.drop(4,inplace=True)"
   ]
  },
  {
   "attachments": {},
   "cell_type": "markdown",
   "id": "0beac95f",
   "metadata": {
    "papermill": {
     "duration": 0.023541,
     "end_time": "2023-04-15T04:11:01.536900",
     "exception": false,
     "start_time": "2023-04-15T04:11:01.513359",
     "status": "completed"
    },
    "tags": []
   },
   "source": [
    "We will replace the null values in Cholesterol column with mean values"
   ]
  },
  {
   "cell_type": "code",
   "execution_count": 17,
   "id": "d6072f95",
   "metadata": {
    "execution": {
     "iopub.execute_input": "2023-04-15T04:11:01.586062Z",
     "iopub.status.busy": "2023-04-15T04:11:01.585567Z",
     "iopub.status.idle": "2023-04-15T04:11:01.596416Z",
     "shell.execute_reply": "2023-04-15T04:11:01.594975Z"
    },
    "papermill": {
     "duration": 0.038836,
     "end_time": "2023-04-15T04:11:01.599097",
     "exception": false,
     "start_time": "2023-04-15T04:11:01.560261",
     "status": "completed"
    },
    "tags": []
   },
   "outputs": [
    {
     "data": {
      "text/plain": [
       "Age               0\n",
       "Sex               0\n",
       "ChestPainType     0\n",
       "RestingBP         0\n",
       "FastingBS         0\n",
       "RestingECG        0\n",
       "MaxHR             0\n",
       "ExerciseAngina    0\n",
       "Oldpeak           0\n",
       "ST_Slope          0\n",
       "HeartDisease      0\n",
       "dtype: int64"
      ]
     },
     "execution_count": 17,
     "metadata": {},
     "output_type": "execute_result"
    }
   ],
   "source": [
    "# After filling null values with mean\n",
    "\n",
    "df.isnull().sum()"
   ]
  },
  {
   "cell_type": "code",
   "execution_count": 18,
   "id": "afc883ec",
   "metadata": {
    "execution": {
     "iopub.execute_input": "2023-04-15T04:11:01.649312Z",
     "iopub.status.busy": "2023-04-15T04:11:01.648751Z",
     "iopub.status.idle": "2023-04-15T04:11:01.659295Z",
     "shell.execute_reply": "2023-04-15T04:11:01.657786Z"
    },
    "papermill": {
     "duration": 0.038535,
     "end_time": "2023-04-15T04:11:01.662207",
     "exception": false,
     "start_time": "2023-04-15T04:11:01.623672",
     "status": "completed"
    },
    "tags": []
   },
   "outputs": [
    {
     "data": {
      "text/plain": [
       "1    508\n",
       "0    409\n",
       "Name: HeartDisease, dtype: int64"
      ]
     },
     "execution_count": 18,
     "metadata": {},
     "output_type": "execute_result"
    }
   ],
   "source": [
    "df['HeartDisease'].value_counts()\n",
    "\n",
    "#  [1: heart disease, 0: Normal]"
   ]
  },
  {
   "cell_type": "code",
   "execution_count": 27,
   "id": "38373abd",
   "metadata": {
    "execution": {
     "iopub.execute_input": "2023-04-15T04:11:49.311007Z",
     "iopub.status.busy": "2023-04-15T04:11:49.310567Z",
     "iopub.status.idle": "2023-04-15T04:11:49.317721Z",
     "shell.execute_reply": "2023-04-15T04:11:49.316244Z"
    },
    "papermill": {
     "duration": 0.070985,
     "end_time": "2023-04-15T04:11:49.320363",
     "exception": false,
     "start_time": "2023-04-15T04:11:49.249378",
     "status": "completed"
    },
    "tags": []
   },
   "outputs": [],
   "source": [
    "X = df.drop('HeartDisease',axis=1)\n",
    "Y = df['HeartDisease']"
   ]
  },
  {
   "cell_type": "code",
   "execution_count": 28,
   "id": "1a60d846",
   "metadata": {
    "execution": {
     "iopub.execute_input": "2023-04-15T04:11:49.440838Z",
     "iopub.status.busy": "2023-04-15T04:11:49.439997Z",
     "iopub.status.idle": "2023-04-15T04:11:49.449666Z",
     "shell.execute_reply": "2023-04-15T04:11:49.448437Z"
    },
    "papermill": {
     "duration": 0.07321,
     "end_time": "2023-04-15T04:11:49.452534",
     "exception": false,
     "start_time": "2023-04-15T04:11:49.379324",
     "status": "completed"
    },
    "tags": []
   },
   "outputs": [],
   "source": [
    "from sklearn.model_selection import train_test_split\n",
    "X_train,X_test,Y_train,Y_test = train_test_split(X,Y,test_size=0.2,stratify=Y,random_state=5)"
   ]
  },
  {
   "attachments": {},
   "cell_type": "markdown",
   "id": "e6064301",
   "metadata": {
    "papermill": {
     "duration": 0.058164,
     "end_time": "2023-04-15T04:11:53.644784",
     "exception": false,
     "start_time": "2023-04-15T04:11:53.586620",
     "status": "completed"
    },
    "tags": []
   },
   "source": [
    "# Naive Bayes"
   ]
  },
  {
   "attachments": {},
   "cell_type": "markdown",
   "id": "beecce6c",
   "metadata": {
    "papermill": {
     "duration": 0.059449,
     "end_time": "2023-04-15T04:11:53.764936",
     "exception": false,
     "start_time": "2023-04-15T04:11:53.705487",
     "status": "completed"
    },
    "tags": []
   },
   "source": [
    "We will use Gaussian Naive Bayes here because it assumes that the features (independent variables) are continuous and normally distributed"
   ]
  },
  {
   "cell_type": "code",
   "execution_count": 43,
   "id": "01abe777",
   "metadata": {
    "execution": {
     "iopub.execute_input": "2023-04-15T04:11:53.887784Z",
     "iopub.status.busy": "2023-04-15T04:11:53.886757Z",
     "iopub.status.idle": "2023-04-15T04:11:53.900718Z",
     "shell.execute_reply": "2023-04-15T04:11:53.899651Z"
    },
    "papermill": {
     "duration": 0.078477,
     "end_time": "2023-04-15T04:11:53.903627",
     "exception": false,
     "start_time": "2023-04-15T04:11:53.825150",
     "status": "completed"
    },
    "tags": []
   },
   "outputs": [],
   "source": [
    "from sklearn.naive_bayes import GaussianNB"
   ]
  },
  {
   "cell_type": "code",
   "execution_count": 44,
   "id": "8bc7fa18",
   "metadata": {
    "execution": {
     "iopub.execute_input": "2023-04-15T04:11:54.033808Z",
     "iopub.status.busy": "2023-04-15T04:11:54.033210Z",
     "iopub.status.idle": "2023-04-15T04:11:54.038623Z",
     "shell.execute_reply": "2023-04-15T04:11:54.037383Z"
    },
    "papermill": {
     "duration": 0.077054,
     "end_time": "2023-04-15T04:11:54.040808",
     "exception": false,
     "start_time": "2023-04-15T04:11:53.963754",
     "status": "completed"
    },
    "tags": []
   },
   "outputs": [],
   "source": [
    "gaussNB = GaussianNB()"
   ]
  },
  {
   "cell_type": "code",
   "execution_count": 45,
   "id": "22097972",
   "metadata": {
    "execution": {
     "iopub.execute_input": "2023-04-15T04:11:54.160369Z",
     "iopub.status.busy": "2023-04-15T04:11:54.159521Z",
     "iopub.status.idle": "2023-04-15T04:11:54.169544Z",
     "shell.execute_reply": "2023-04-15T04:11:54.168617Z"
    },
    "papermill": {
     "duration": 0.073391,
     "end_time": "2023-04-15T04:11:54.171962",
     "exception": false,
     "start_time": "2023-04-15T04:11:54.098571",
     "status": "completed"
    },
    "tags": []
   },
   "outputs": [
    {
     "data": {
      "text/plain": [
       "GaussianNB()"
      ]
     },
     "execution_count": 45,
     "metadata": {},
     "output_type": "execute_result"
    }
   ],
   "source": [
    "# Training our model\n",
    "\n",
    "gaussNB.fit(X_train,Y_train)"
   ]
  },
  {
   "cell_type": "code",
   "execution_count": 46,
   "id": "4e753668",
   "metadata": {
    "execution": {
     "iopub.execute_input": "2023-04-15T04:11:54.292245Z",
     "iopub.status.busy": "2023-04-15T04:11:54.291362Z",
     "iopub.status.idle": "2023-04-15T04:11:54.298649Z",
     "shell.execute_reply": "2023-04-15T04:11:54.297693Z"
    },
    "papermill": {
     "duration": 0.071085,
     "end_time": "2023-04-15T04:11:54.301290",
     "exception": false,
     "start_time": "2023-04-15T04:11:54.230205",
     "status": "completed"
    },
    "tags": []
   },
   "outputs": [],
   "source": [
    "Y_pred_nb = gaussNB.predict(X_test)"
   ]
  },
  {
   "attachments": {},
   "cell_type": "markdown",
   "id": "458d9b25",
   "metadata": {
    "papermill": {
     "duration": 0.064339,
     "end_time": "2023-04-15T04:11:54.425560",
     "exception": false,
     "start_time": "2023-04-15T04:11:54.361221",
     "status": "completed"
    },
    "tags": []
   },
   "source": [
    "**Model evaluation**"
   ]
  },
  {
   "cell_type": "code",
   "execution_count": 47,
   "id": "061d91f3",
   "metadata": {
    "execution": {
     "iopub.execute_input": "2023-04-15T04:11:54.546787Z",
     "iopub.status.busy": "2023-04-15T04:11:54.546055Z",
     "iopub.status.idle": "2023-04-15T04:11:54.552906Z",
     "shell.execute_reply": "2023-04-15T04:11:54.551420Z"
    },
    "papermill": {
     "duration": 0.070771,
     "end_time": "2023-04-15T04:11:54.555545",
     "exception": false,
     "start_time": "2023-04-15T04:11:54.484774",
     "status": "completed"
    },
    "tags": []
   },
   "outputs": [
    {
     "name": "stdout",
     "output_type": "stream",
     "text": [
      "The value of accuracy score is  0.8586956521739131\n"
     ]
    }
   ],
   "source": [
    "print('The value of accuracy score is ',accuracy_score(Y_test,Y_pred_nb))"
   ]
  },
  {
   "attachments": {},
   "cell_type": "markdown",
   "id": "8254197f",
   "metadata": {
    "papermill": {
     "duration": 0.058873,
     "end_time": "2023-04-15T04:11:54.675413",
     "exception": false,
     "start_time": "2023-04-15T04:11:54.616540",
     "status": "completed"
    },
    "tags": []
   },
   "source": [
    "**That means the model is 85% accurate in predicting whether a person has heart disease or not based on the features present in the dataset.**"
   ]
  }
 ],
 "metadata": {
  "kernelspec": {
   "display_name": "Python 3",
   "language": "python",
   "name": "python3"
  },
  "language_info": {
   "codemirror_mode": {
    "name": "ipython",
    "version": 3
   },
   "file_extension": ".py",
   "mimetype": "text/x-python",
   "name": "python",
   "nbconvert_exporter": "python",
   "pygments_lexer": "ipython3",
   "version": "3.7.12"
  },
  "papermill": {
   "default_parameters": {},
   "duration": 76.235453,
   "end_time": "2023-04-15T04:11:57.736961",
   "environment_variables": {},
   "exception": null,
   "input_path": "__notebook__.ipynb",
   "output_path": "__notebook__.ipynb",
   "parameters": {},
   "start_time": "2023-04-15T04:10:41.501508",
   "version": "2.4.0"
  }
 },
 "nbformat": 4,
 "nbformat_minor": 5
}
