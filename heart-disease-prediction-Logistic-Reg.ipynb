{
 "cells": [
  {
   "attachments": {},
   "cell_type": "markdown",
   "id": "5498d20c",
   "metadata": {},
   "source": [
    "\"\"\"\n",
    "@Author : Saniya Shaikh\n",
    "@Date   : 10th Mar 2023\n",
    "@Goal : Heart Disease Predicator Application Using Logistic Regression Algorithm.\n",
    "\"\"\""
   ]
  },
  {
   "attachments": {},
   "cell_type": "markdown",
   "id": "e664f10c",
   "metadata": {
    "papermill": {
     "duration": 0.018149,
     "end_time": "2023-04-15T04:10:53.440764",
     "exception": false,
     "start_time": "2023-04-15T04:10:53.422615",
     "status": "completed"
    },
    "tags": []
   },
   "source": [
    "# Importing the libraries"
   ]
  },
  {
   "cell_type": "code",
   "execution_count": 1,
   "id": "afb5670a",
   "metadata": {
    "execution": {
     "iopub.execute_input": "2023-04-15T04:10:53.482475Z",
     "iopub.status.busy": "2023-04-15T04:10:53.481635Z",
     "iopub.status.idle": "2023-04-15T04:10:57.075954Z",
     "shell.execute_reply": "2023-04-15T04:10:57.074281Z"
    },
    "papermill": {
     "duration": 3.618413,
     "end_time": "2023-04-15T04:10:57.079344",
     "exception": false,
     "start_time": "2023-04-15T04:10:53.460931",
     "status": "completed"
    },
    "tags": []
   },
   "outputs": [],
   "source": [
    "import numpy as np\n",
    "import pandas as pd\n",
    "\n",
    "import warnings\n",
    "warnings.filterwarnings('ignore')\n",
    "%matplotlib inline"
   ]
  },
  {
   "attachments": {},
   "cell_type": "markdown",
   "id": "c3777094",
   "metadata": {
    "papermill": {
     "duration": 0.017731,
     "end_time": "2023-04-15T04:10:57.115574",
     "exception": false,
     "start_time": "2023-04-15T04:10:57.097843",
     "status": "completed"
    },
    "tags": []
   },
   "source": [
    "**Load the dataset**"
   ]
  },
  {
   "cell_type": "code",
   "execution_count": 2,
   "id": "ca106513",
   "metadata": {
    "execution": {
     "iopub.execute_input": "2023-04-15T04:10:57.154967Z",
     "iopub.status.busy": "2023-04-15T04:10:57.154495Z",
     "iopub.status.idle": "2023-04-15T04:10:57.186083Z",
     "shell.execute_reply": "2023-04-15T04:10:57.185121Z"
    },
    "papermill": {
     "duration": 0.054555,
     "end_time": "2023-04-15T04:10:57.188858",
     "exception": false,
     "start_time": "2023-04-15T04:10:57.134303",
     "status": "completed"
    },
    "tags": []
   },
   "outputs": [],
   "source": [
    "df = pd.read_csv('/kaggle/input/heart-prediction/heart.csv')"
   ]
  },
  {
   "cell_type": "code",
   "execution_count": 3,
   "id": "b53cc3b7",
   "metadata": {
    "execution": {
     "iopub.execute_input": "2023-04-15T04:10:57.227136Z",
     "iopub.status.busy": "2023-04-15T04:10:57.226695Z",
     "iopub.status.idle": "2023-04-15T04:10:57.261729Z",
     "shell.execute_reply": "2023-04-15T04:10:57.260656Z"
    },
    "papermill": {
     "duration": 0.057592,
     "end_time": "2023-04-15T04:10:57.264592",
     "exception": false,
     "start_time": "2023-04-15T04:10:57.207000",
     "status": "completed"
    },
    "tags": []
   },
   "outputs": [
    {
     "data": {
      "text/html": [
       "<div>\n",
       "<style scoped>\n",
       "    .dataframe tbody tr th:only-of-type {\n",
       "        vertical-align: middle;\n",
       "    }\n",
       "\n",
       "    .dataframe tbody tr th {\n",
       "        vertical-align: top;\n",
       "    }\n",
       "\n",
       "    .dataframe thead th {\n",
       "        text-align: right;\n",
       "    }\n",
       "</style>\n",
       "<table border=\"1\" class=\"dataframe\">\n",
       "  <thead>\n",
       "    <tr style=\"text-align: right;\">\n",
       "      <th></th>\n",
       "      <th>Age</th>\n",
       "      <th>Sex</th>\n",
       "      <th>ChestPainType</th>\n",
       "      <th>RestingBP</th>\n",
       "      <th>Cholesterol</th>\n",
       "      <th>FastingBS</th>\n",
       "      <th>RestingECG</th>\n",
       "      <th>MaxHR</th>\n",
       "      <th>ExerciseAngina</th>\n",
       "      <th>Oldpeak</th>\n",
       "      <th>ST_Slope</th>\n",
       "      <th>HeartDisease</th>\n",
       "    </tr>\n",
       "  </thead>\n",
       "  <tbody>\n",
       "    <tr>\n",
       "      <th>0</th>\n",
       "      <td>40</td>\n",
       "      <td>M</td>\n",
       "      <td>ATA</td>\n",
       "      <td>140</td>\n",
       "      <td>289</td>\n",
       "      <td>0</td>\n",
       "      <td>Normal</td>\n",
       "      <td>172</td>\n",
       "      <td>N</td>\n",
       "      <td>0.0</td>\n",
       "      <td>Up</td>\n",
       "      <td>0</td>\n",
       "    </tr>\n",
       "    <tr>\n",
       "      <th>1</th>\n",
       "      <td>49</td>\n",
       "      <td>F</td>\n",
       "      <td>NAP</td>\n",
       "      <td>160</td>\n",
       "      <td>180</td>\n",
       "      <td>0</td>\n",
       "      <td>Normal</td>\n",
       "      <td>156</td>\n",
       "      <td>N</td>\n",
       "      <td>1.0</td>\n",
       "      <td>Flat</td>\n",
       "      <td>1</td>\n",
       "    </tr>\n",
       "    <tr>\n",
       "      <th>2</th>\n",
       "      <td>37</td>\n",
       "      <td>M</td>\n",
       "      <td>ATA</td>\n",
       "      <td>130</td>\n",
       "      <td>283</td>\n",
       "      <td>0</td>\n",
       "      <td>ST</td>\n",
       "      <td>98</td>\n",
       "      <td>N</td>\n",
       "      <td>0.0</td>\n",
       "      <td>Up</td>\n",
       "      <td>0</td>\n",
       "    </tr>\n",
       "    <tr>\n",
       "      <th>3</th>\n",
       "      <td>48</td>\n",
       "      <td>F</td>\n",
       "      <td>ASY</td>\n",
       "      <td>138</td>\n",
       "      <td>214</td>\n",
       "      <td>0</td>\n",
       "      <td>Normal</td>\n",
       "      <td>108</td>\n",
       "      <td>Y</td>\n",
       "      <td>1.5</td>\n",
       "      <td>Flat</td>\n",
       "      <td>1</td>\n",
       "    </tr>\n",
       "    <tr>\n",
       "      <th>4</th>\n",
       "      <td>54</td>\n",
       "      <td>M</td>\n",
       "      <td>NAP</td>\n",
       "      <td>150</td>\n",
       "      <td>195</td>\n",
       "      <td>0</td>\n",
       "      <td>Normal</td>\n",
       "      <td>122</td>\n",
       "      <td>N</td>\n",
       "      <td>0.0</td>\n",
       "      <td>Up</td>\n",
       "      <td>0</td>\n",
       "    </tr>\n",
       "  </tbody>\n",
       "</table>\n",
       "</div>"
      ],
      "text/plain": [
       "   Age Sex ChestPainType  RestingBP  Cholesterol  FastingBS RestingECG  MaxHR  \\\n",
       "0   40   M           ATA        140          289          0     Normal    172   \n",
       "1   49   F           NAP        160          180          0     Normal    156   \n",
       "2   37   M           ATA        130          283          0         ST     98   \n",
       "3   48   F           ASY        138          214          0     Normal    108   \n",
       "4   54   M           NAP        150          195          0     Normal    122   \n",
       "\n",
       "  ExerciseAngina  Oldpeak ST_Slope  HeartDisease  \n",
       "0              N      0.0       Up             0  \n",
       "1              N      1.0     Flat             1  \n",
       "2              N      0.0       Up             0  \n",
       "3              Y      1.5     Flat             1  \n",
       "4              N      0.0       Up             0  "
      ]
     },
     "execution_count": 3,
     "metadata": {},
     "output_type": "execute_result"
    }
   ],
   "source": [
    "df.head()"
   ]
  },
  {
   "cell_type": "code",
   "execution_count": 5,
   "id": "b194b766",
   "metadata": {
    "execution": {
     "iopub.execute_input": "2023-04-15T04:10:57.544223Z",
     "iopub.status.busy": "2023-04-15T04:10:57.543381Z",
     "iopub.status.idle": "2023-04-15T04:10:57.558254Z",
     "shell.execute_reply": "2023-04-15T04:10:57.557243Z"
    },
    "papermill": {
     "duration": 0.037853,
     "end_time": "2023-04-15T04:10:57.560725",
     "exception": false,
     "start_time": "2023-04-15T04:10:57.522872",
     "status": "completed"
    },
    "tags": []
   },
   "outputs": [],
   "source": [
    "df['Sex'].replace(to_replace=['M','F'],value=[1,2],inplace=True)\n",
    "df['ChestPainType'].replace(to_replace=['ATA','NAP','ASY','TA'],value=[1,2,3,4],inplace=True)\n",
    "df['RestingECG'].replace(to_replace=['Normal','ST','LVH'],value=[1,2,3],inplace=True)\n",
    "df['ExerciseAngina'].replace(to_replace=['N','Y'],value=[1,2],inplace=True)\n",
    "df['ST_Slope'].replace(to_replace=['Up','Flat','Down'],value=[1,2,3],inplace=True)"
   ]
  },
  {
   "cell_type": "code",
   "execution_count": 7,
   "id": "cc876c44",
   "metadata": {
    "execution": {
     "iopub.execute_input": "2023-04-15T04:10:57.657830Z",
     "iopub.status.busy": "2023-04-15T04:10:57.657393Z",
     "iopub.status.idle": "2023-04-15T04:10:57.664288Z",
     "shell.execute_reply": "2023-04-15T04:10:57.663372Z"
    },
    "papermill": {
     "duration": 0.030552,
     "end_time": "2023-04-15T04:10:57.666885",
     "exception": false,
     "start_time": "2023-04-15T04:10:57.636333",
     "status": "completed"
    },
    "tags": []
   },
   "outputs": [
    {
     "data": {
      "text/plain": [
       "(918, 12)"
      ]
     },
     "execution_count": 7,
     "metadata": {},
     "output_type": "execute_result"
    }
   ],
   "source": [
    "df.shape"
   ]
  },
  {
   "cell_type": "code",
   "execution_count": 9,
   "id": "f87d4d16",
   "metadata": {
    "execution": {
     "iopub.execute_input": "2023-04-15T04:10:57.884049Z",
     "iopub.status.busy": "2023-04-15T04:10:57.883605Z",
     "iopub.status.idle": "2023-04-15T04:10:57.892789Z",
     "shell.execute_reply": "2023-04-15T04:10:57.891426Z"
    },
    "papermill": {
     "duration": 0.033352,
     "end_time": "2023-04-15T04:10:57.895436",
     "exception": false,
     "start_time": "2023-04-15T04:10:57.862084",
     "status": "completed"
    },
    "tags": []
   },
   "outputs": [
    {
     "data": {
      "text/plain": [
       "172"
      ]
     },
     "execution_count": 9,
     "metadata": {},
     "output_type": "execute_result"
    }
   ],
   "source": [
    "len(df[df['Cholesterol']==0])"
   ]
  },
  {
   "cell_type": "code",
   "execution_count": 10,
   "id": "9ee466de",
   "metadata": {
    "execution": {
     "iopub.execute_input": "2023-04-15T04:10:57.937534Z",
     "iopub.status.busy": "2023-04-15T04:10:57.936750Z",
     "iopub.status.idle": "2023-04-15T04:10:57.953820Z",
     "shell.execute_reply": "2023-04-15T04:10:57.952498Z"
    },
    "papermill": {
     "duration": 0.041084,
     "end_time": "2023-04-15T04:10:57.956340",
     "exception": false,
     "start_time": "2023-04-15T04:10:57.915256",
     "status": "completed"
    },
    "tags": []
   },
   "outputs": [
    {
     "name": "stdout",
     "output_type": "stream",
     "text": [
      "1\n"
     ]
    },
    {
     "data": {
      "text/html": [
       "<div>\n",
       "<style scoped>\n",
       "    .dataframe tbody tr th:only-of-type {\n",
       "        vertical-align: middle;\n",
       "    }\n",
       "\n",
       "    .dataframe tbody tr th {\n",
       "        vertical-align: top;\n",
       "    }\n",
       "\n",
       "    .dataframe thead th {\n",
       "        text-align: right;\n",
       "    }\n",
       "</style>\n",
       "<table border=\"1\" class=\"dataframe\">\n",
       "  <thead>\n",
       "    <tr style=\"text-align: right;\">\n",
       "      <th></th>\n",
       "      <th>Age</th>\n",
       "      <th>Sex</th>\n",
       "      <th>ChestPainType</th>\n",
       "      <th>RestingBP</th>\n",
       "      <th>Cholesterol</th>\n",
       "      <th>FastingBS</th>\n",
       "      <th>RestingECG</th>\n",
       "      <th>MaxHR</th>\n",
       "      <th>ExerciseAngina</th>\n",
       "      <th>Oldpeak</th>\n",
       "      <th>ST_Slope</th>\n",
       "      <th>HeartDisease</th>\n",
       "    </tr>\n",
       "  </thead>\n",
       "  <tbody>\n",
       "    <tr>\n",
       "      <th>449</th>\n",
       "      <td>55</td>\n",
       "      <td>1</td>\n",
       "      <td>2</td>\n",
       "      <td>0</td>\n",
       "      <td>0</td>\n",
       "      <td>0</td>\n",
       "      <td>1</td>\n",
       "      <td>155</td>\n",
       "      <td>1</td>\n",
       "      <td>1.5</td>\n",
       "      <td>2</td>\n",
       "      <td>1</td>\n",
       "    </tr>\n",
       "  </tbody>\n",
       "</table>\n",
       "</div>"
      ],
      "text/plain": [
       "     Age  Sex  ChestPainType  RestingBP  Cholesterol  FastingBS  RestingECG  \\\n",
       "449   55    1              2          0            0          0           1   \n",
       "\n",
       "     MaxHR  ExerciseAngina  Oldpeak  ST_Slope  HeartDisease  \n",
       "449    155               1      1.5         2             1  "
      ]
     },
     "execution_count": 10,
     "metadata": {},
     "output_type": "execute_result"
    }
   ],
   "source": [
    "print(len(df[df['RestingBP']==0]))\n",
    "df[df['RestingBP']==0]"
   ]
  },
  {
   "cell_type": "code",
   "execution_count": 11,
   "id": "ac6d2071",
   "metadata": {
    "execution": {
     "iopub.execute_input": "2023-04-15T04:10:58.038973Z",
     "iopub.status.busy": "2023-04-15T04:10:58.038205Z",
     "iopub.status.idle": "2023-04-15T04:10:58.045142Z",
     "shell.execute_reply": "2023-04-15T04:10:58.044150Z"
    },
    "papermill": {
     "duration": 0.031551,
     "end_time": "2023-04-15T04:10:58.047703",
     "exception": false,
     "start_time": "2023-04-15T04:10:58.016152",
     "status": "completed"
    },
    "tags": []
   },
   "outputs": [],
   "source": [
    "# Dropping the Cholesterol column\n",
    "\n",
    "df = df.drop('Cholesterol',axis=1)"
   ]
  },
  {
   "cell_type": "code",
   "execution_count": 14,
   "id": "061df01b",
   "metadata": {
    "execution": {
     "iopub.execute_input": "2023-04-15T04:10:58.234444Z",
     "iopub.status.busy": "2023-04-15T04:10:58.233616Z",
     "iopub.status.idle": "2023-04-15T04:10:58.242885Z",
     "shell.execute_reply": "2023-04-15T04:10:58.241365Z"
    },
    "papermill": {
     "duration": 0.033493,
     "end_time": "2023-04-15T04:10:58.245409",
     "exception": false,
     "start_time": "2023-04-15T04:10:58.211916",
     "status": "completed"
    },
    "tags": []
   },
   "outputs": [
    {
     "data": {
      "text/plain": [
       "Age               0\n",
       "Sex               0\n",
       "ChestPainType     0\n",
       "RestingBP         0\n",
       "FastingBS         0\n",
       "RestingECG        0\n",
       "MaxHR             0\n",
       "ExerciseAngina    0\n",
       "Oldpeak           0\n",
       "ST_Slope          0\n",
       "HeartDisease      0\n",
       "dtype: int64"
      ]
     },
     "execution_count": 14,
     "metadata": {},
     "output_type": "execute_result"
    }
   ],
   "source": [
    "df.isnull().sum()"
   ]
  },
  {
   "cell_type": "code",
   "execution_count": 18,
   "id": "afc883ec",
   "metadata": {
    "execution": {
     "iopub.execute_input": "2023-04-15T04:11:01.649312Z",
     "iopub.status.busy": "2023-04-15T04:11:01.648751Z",
     "iopub.status.idle": "2023-04-15T04:11:01.659295Z",
     "shell.execute_reply": "2023-04-15T04:11:01.657786Z"
    },
    "papermill": {
     "duration": 0.038535,
     "end_time": "2023-04-15T04:11:01.662207",
     "exception": false,
     "start_time": "2023-04-15T04:11:01.623672",
     "status": "completed"
    },
    "tags": []
   },
   "outputs": [
    {
     "data": {
      "text/plain": [
       "1    508\n",
       "0    409\n",
       "Name: HeartDisease, dtype: int64"
      ]
     },
     "execution_count": 18,
     "metadata": {},
     "output_type": "execute_result"
    }
   ],
   "source": [
    "df['HeartDisease'].value_counts()\n",
    "\n",
    "#  [1: heart disease, 0: Normal]"
   ]
  },
  {
   "cell_type": "code",
   "execution_count": 27,
   "id": "38373abd",
   "metadata": {
    "execution": {
     "iopub.execute_input": "2023-04-15T04:11:49.311007Z",
     "iopub.status.busy": "2023-04-15T04:11:49.310567Z",
     "iopub.status.idle": "2023-04-15T04:11:49.317721Z",
     "shell.execute_reply": "2023-04-15T04:11:49.316244Z"
    },
    "papermill": {
     "duration": 0.070985,
     "end_time": "2023-04-15T04:11:49.320363",
     "exception": false,
     "start_time": "2023-04-15T04:11:49.249378",
     "status": "completed"
    },
    "tags": []
   },
   "outputs": [],
   "source": [
    "X = df.drop('HeartDisease',axis=1)\n",
    "Y = df['HeartDisease']"
   ]
  },
  {
   "cell_type": "code",
   "execution_count": 28,
   "id": "1a60d846",
   "metadata": {
    "execution": {
     "iopub.execute_input": "2023-04-15T04:11:49.440838Z",
     "iopub.status.busy": "2023-04-15T04:11:49.439997Z",
     "iopub.status.idle": "2023-04-15T04:11:49.449666Z",
     "shell.execute_reply": "2023-04-15T04:11:49.448437Z"
    },
    "papermill": {
     "duration": 0.07321,
     "end_time": "2023-04-15T04:11:49.452534",
     "exception": false,
     "start_time": "2023-04-15T04:11:49.379324",
     "status": "completed"
    },
    "tags": []
   },
   "outputs": [],
   "source": [
    "from sklearn.model_selection import train_test_split\n",
    "X_train,X_test,Y_train,Y_test = train_test_split(X,Y,test_size=0.2,stratify=Y,random_state=5)"
   ]
  },
  {
   "attachments": {},
   "cell_type": "markdown",
   "id": "e0a047fa",
   "metadata": {
    "papermill": {
     "duration": 0.057436,
     "end_time": "2023-04-15T04:11:52.619736",
     "exception": false,
     "start_time": "2023-04-15T04:11:52.562300",
     "status": "completed"
    },
    "tags": []
   },
   "source": [
    "# Logistic Regression"
   ]
  },
  {
   "cell_type": "code",
   "execution_count": 39,
   "id": "088064bd",
   "metadata": {
    "execution": {
     "iopub.execute_input": "2023-04-15T04:11:52.741542Z",
     "iopub.status.busy": "2023-04-15T04:11:52.740150Z",
     "iopub.status.idle": "2023-04-15T04:11:52.745594Z",
     "shell.execute_reply": "2023-04-15T04:11:52.744744Z"
    },
    "papermill": {
     "duration": 0.069008,
     "end_time": "2023-04-15T04:11:52.747960",
     "exception": false,
     "start_time": "2023-04-15T04:11:52.678952",
     "status": "completed"
    },
    "tags": []
   },
   "outputs": [],
   "source": [
    "from sklearn.linear_model import LogisticRegression\n",
    "log_reg = LogisticRegression()"
   ]
  },
  {
   "cell_type": "code",
   "execution_count": 40,
   "id": "d0a0456e",
   "metadata": {
    "execution": {
     "iopub.execute_input": "2023-04-15T04:11:52.866829Z",
     "iopub.status.busy": "2023-04-15T04:11:52.865814Z",
     "iopub.status.idle": "2023-04-15T04:11:52.905661Z",
     "shell.execute_reply": "2023-04-15T04:11:52.904121Z"
    },
    "papermill": {
     "duration": 0.102749,
     "end_time": "2023-04-15T04:11:52.908511",
     "exception": false,
     "start_time": "2023-04-15T04:11:52.805762",
     "status": "completed"
    },
    "tags": []
   },
   "outputs": [
    {
     "data": {
      "text/plain": [
       "LogisticRegression()"
      ]
     },
     "execution_count": 40,
     "metadata": {},
     "output_type": "execute_result"
    }
   ],
   "source": [
    "# Training our model\n",
    "\n",
    "log_reg.fit(X_train,Y_train)"
   ]
  },
  {
   "cell_type": "code",
   "execution_count": 41,
   "id": "28ed3a9d",
   "metadata": {
    "execution": {
     "iopub.execute_input": "2023-04-15T04:11:53.028179Z",
     "iopub.status.busy": "2023-04-15T04:11:53.027225Z",
     "iopub.status.idle": "2023-04-15T04:11:53.035591Z",
     "shell.execute_reply": "2023-04-15T04:11:53.034312Z"
    },
    "papermill": {
     "duration": 0.072345,
     "end_time": "2023-04-15T04:11:53.038529",
     "exception": false,
     "start_time": "2023-04-15T04:11:52.966184",
     "status": "completed"
    },
    "tags": []
   },
   "outputs": [],
   "source": [
    "Y_pred_logistic = log_reg.predict(X_test)"
   ]
  },
  {
   "attachments": {},
   "cell_type": "markdown",
   "id": "57aa948a",
   "metadata": {
    "papermill": {
     "duration": 0.060132,
     "end_time": "2023-04-15T04:11:53.158359",
     "exception": false,
     "start_time": "2023-04-15T04:11:53.098227",
     "status": "completed"
    },
    "tags": []
   },
   "source": [
    "**Model evaluation**"
   ]
  },
  {
   "cell_type": "code",
   "execution_count": 42,
   "id": "94efeed8",
   "metadata": {
    "execution": {
     "iopub.execute_input": "2023-04-15T04:11:53.278967Z",
     "iopub.status.busy": "2023-04-15T04:11:53.278524Z",
     "iopub.status.idle": "2023-04-15T04:11:53.286964Z",
     "shell.execute_reply": "2023-04-15T04:11:53.285263Z"
    },
    "papermill": {
     "duration": 0.071869,
     "end_time": "2023-04-15T04:11:53.289504",
     "exception": false,
     "start_time": "2023-04-15T04:11:53.217635",
     "status": "completed"
    },
    "tags": []
   },
   "outputs": [
    {
     "name": "stdout",
     "output_type": "stream",
     "text": [
      "The accuracy score is  0.8695652173913043\n"
     ]
    }
   ],
   "source": [
    "print('The accuracy score is ',accuracy_score(Y_test,Y_pred_logistic))"
   ]
  },
  {
   "attachments": {},
   "cell_type": "markdown",
   "id": "c3b2f15a",
   "metadata": {
    "papermill": {
     "duration": 0.058864,
     "end_time": "2023-04-15T04:11:53.407264",
     "exception": false,
     "start_time": "2023-04-15T04:11:53.348400",
     "status": "completed"
    },
    "tags": []
   },
   "source": [
    "**An accuracy score of 0.86 in a heart disease dataset means that the logistic regression model correctly predicted the presence or absence of heart disease in 86% of the cases. In other words, out of all the instances where the model made a prediction, 86% of them were correct.**"
   ]
  }
 ],
 "metadata": {
  "kernelspec": {
   "display_name": "Python 3",
   "language": "python",
   "name": "python3"
  },
  "language_info": {
   "codemirror_mode": {
    "name": "ipython",
    "version": 3
   },
   "file_extension": ".py",
   "mimetype": "text/x-python",
   "name": "python",
   "nbconvert_exporter": "python",
   "pygments_lexer": "ipython3",
   "version": "3.7.12"
  },
  "papermill": {
   "default_parameters": {},
   "duration": 76.235453,
   "end_time": "2023-04-15T04:11:57.736961",
   "environment_variables": {},
   "exception": null,
   "input_path": "__notebook__.ipynb",
   "output_path": "__notebook__.ipynb",
   "parameters": {},
   "start_time": "2023-04-15T04:10:41.501508",
   "version": "2.4.0"
  }
 },
 "nbformat": 4,
 "nbformat_minor": 5
}
